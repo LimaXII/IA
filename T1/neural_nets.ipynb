{
  "nbformat": 4,
  "nbformat_minor": 0,
  "metadata": {
    "colab": {
      "provenance": [],
      "gpuType": "T4"
    },
    "kernelspec": {
      "name": "python3",
      "display_name": "Python 3"
    },
    "language_info": {
      "name": "python"
    },
    "accelerator": "GPU"
  },
  "cells": [
    {
      "cell_type": "markdown",
      "source": [
        "# Imports e datasets\n"
      ],
      "metadata": {
        "id": "rj_idwWU8RNG"
      }
    },
    {
      "cell_type": "code",
      "execution_count": 72,
      "metadata": {
        "colab": {
          "base_uri": "https://localhost:8080/"
        },
        "id": "bk47lR-98GWg",
        "outputId": "e6845847-318b-41b6-eaf7-750ae87b6985"
      },
      "outputs": [
        {
          "output_type": "stream",
          "name": "stdout",
          "text": [
            "2.12.0\n"
          ]
        }
      ],
      "source": [
        "import tensorflow as tf\n",
        "import matplotlib.pyplot as plt\n",
        "import numpy as np\n",
        "from datetime import datetime\n",
        "from keras.utils.np_utils import to_categorical\n",
        "\n",
        "# Datasets\n",
        "mnist = tf.keras.datasets.mnist\n",
        "fashion_mnist = tf.keras.datasets.fashion_mnist\n",
        "cifar10 = tf.keras.datasets.cifar10\n",
        "cifar100 = tf.keras.datasets.cifar100\n",
        "\n",
        "print(tf.__version__)\n"
      ]
    },
    {
      "cell_type": "markdown",
      "source": [
        "# MNIST Dataset"
      ],
      "metadata": {
        "id": "Ld903Zvt9ukq"
      }
    },
    {
      "cell_type": "code",
      "source": [
        "def get_mnist_network():\n",
        "  network = tf.keras.models.Sequential([\n",
        "      tf.keras.layers.Conv2D(64, (3,3), activation='relu', input_shape=(28, 28, 1)),          # 1 camada de convolução: 16 filtros 3x3\n",
        "      tf.keras.layers.Conv2D(32, (4,4), activation='relu'),\n",
        "      tf.keras.layers.MaxPool2D((2,2)),\n",
        "      tf.keras.layers.Dropout(0.2),\n",
        "      tf.keras.layers.BatchNormalization(),\n",
        "      tf.keras.layers.Flatten(),\n",
        "      tf.keras.layers.Dense(128, activation='relu'),\n",
        "      tf.keras.layers.Dropout(0.2),\n",
        "      tf.keras.layers.BatchNormalization(),\n",
        "      tf.keras.layers.Dense(64, activation='relu'),\n",
        "      tf.keras.layers.Dense(10, activation=\"softmax\")                                         # 1 camada de saida com 10 neuronios (1 por classe)\n",
        "  ])\n",
        "\n",
        "  network.compile(optimizer=tf.keras.optimizers.Adam(learning_rate = 0.001),                  # otimizador Adam\n",
        "                loss=tf.keras.losses.SparseCategoricalCrossentropy(from_logits=True),\n",
        "                metrics=['accuracy'])                                                         # métrica final de desempenho (nao modifique!)\n",
        "\n",
        "  return network"
      ],
      "metadata": {
        "id": "xEO0R5CK9t4u"
      },
      "execution_count": 113,
      "outputs": []
    },
    {
      "cell_type": "code",
      "source": [
        "time = datetime.now().strftime(\"%H:%M:%S\")                                                     # Obtém o tempo no inicio do programa.\n",
        "\n",
        "network = get_mnist_network()                                                                  # Obtem a rede\n",
        "(x_train, y_train),(x_test, y_test) = mnist.load_data()                                        # Carrega o dataset\n",
        "\n",
        "network.fit(x_train, y_train, epochs=10, batch_size=128, validation_split=0.2)                 # Treina a rede\n",
        "loss, accuracy = network.evaluate(x_test, y_test)                                              # Avalia a rede\n",
        "\n",
        "print(f\"The program was started on: {time}\")\n",
        "time = datetime.now().strftime(\"%H:%M:%S\")\n",
        "print(f\"The program has ended on: {time}\")"
      ],
      "metadata": {
        "id": "Wz-1qOJX-GI9"
      },
      "execution_count": null,
      "outputs": []
    },
    {
      "cell_type": "markdown",
      "source": [
        "# Fasion MNIST Dataset\n"
      ],
      "metadata": {
        "id": "KkAmRGY7PEVo"
      }
    },
    {
      "cell_type": "code",
      "source": [
        "def get_fashion_mnist_network():\n",
        "  network = tf.keras.models.Sequential([\n",
        "      tf.keras.layers.Conv2D(64, (3, 3), activation='relu', input_shape=(28, 28, 1)),\n",
        "      tf.keras.layers.Dropout(0.2),\n",
        "      tf.keras.layers.BatchNormalization(),\n",
        "      tf.keras.layers.Conv2D(32, (4, 4), activation='relu'),\n",
        "      tf.keras.layers.MaxPooling2D(2, 2),\n",
        "      tf.keras.layers.Dropout(0.2),\n",
        "      tf.keras.layers.BatchNormalization(),\n",
        "      tf.keras.layers.Flatten(),\n",
        "      tf.keras.layers.Dense(128, activation='relu'),\n",
        "      tf.keras.layers.Dropout(0.2),\n",
        "      tf.keras.layers.BatchNormalization(),\n",
        "      tf.keras.layers.Dense(64, activation='relu'),\n",
        "      tf.keras.layers.Dense(10, activation='softmax')                                     # 1 camada de saida com 10 neuronios (1 por classe)\n",
        "  ])\n",
        "\n",
        "  network.compile(optimizer=tf.keras.optimizers.Adam(learning_rate = 0.001),                # otimizador Adam\n",
        "                loss=tf.keras.losses.SparseCategoricalCrossentropy(from_logits=True),\n",
        "                metrics=['accuracy'])                                                       # métrica final de desempenho (nao modifique!)\n",
        "\n",
        "  return network"
      ],
      "metadata": {
        "id": "bZCVSu8cPI_A"
      },
      "execution_count": 125,
      "outputs": []
    },
    {
      "cell_type": "code",
      "source": [
        "time = datetime.now().strftime(\"%H:%M:%S\")                                                  # Obtém o tempo no inicio do programa.\n",
        "\n",
        "\n",
        "network = get_fashion_mnist_network()                                                       # Obtem a rede\n",
        "(x_train, y_train),(x_test, y_test) = fashion_mnist.load_data()                             # Carrega o dataset\n",
        "\n",
        "network.fit(x_train, y_train, epochs=10, batch_size=128, validation_split=0.2)              # Treina a rede\n",
        "loss, accuracy = network.evaluate(x_test, y_test)                                           # Avalia a rede\n",
        "\n",
        "print(f\"The program was started on: {time}\")\n",
        "time = datetime.now().strftime(\"%H:%M:%S\")\n",
        "print(f\"The program has ended on: {time}\")"
      ],
      "metadata": {
        "id": "9CDvwjdCPccO"
      },
      "execution_count": null,
      "outputs": []
    },
    {
      "cell_type": "markdown",
      "source": [
        "# Cifar-10 Dataset"
      ],
      "metadata": {
        "id": "s3uG9HXi5f7O"
      }
    },
    {
      "cell_type": "code",
      "source": [
        "def get_cifar10_network():\n",
        "  network = tf.keras.models.Sequential([\n",
        "      tf.keras.layers.Conv2D(32, (3, 3), activation='relu', input_shape=(32, 32, 3)),\n",
        "      tf.keras.layers.Conv2D(32, (3, 3), activation='relu'),\n",
        "      tf.keras.layers.MaxPool2D((2,2)),\n",
        "      tf.keras.layers.BatchNormalization(),\n",
        "      tf.keras.layers.Dropout(0.4),\n",
        "      tf.keras.layers.Conv2D(64, (4, 4), activation='relu'),\n",
        "      tf.keras.layers.Conv2D(64, (4, 4), activation='relu'),\n",
        "      tf.keras.layers.MaxPool2D((2,2)),\n",
        "      tf.keras.layers.BatchNormalization(),\n",
        "      tf.keras.layers.Dropout(0.4),\n",
        "      tf.keras.layers.Flatten(),\n",
        "      tf.keras.layers.Dense(256, activation='relu'),\n",
        "      tf.keras.layers.Dense(10, activation='softmax')                                     # 1 camada de saida com 10 neuronios (1 por classe)\n",
        "  ])\n",
        "\n",
        "  network.compile(optimizer=tf.keras.optimizers.Adam(learning_rate = 0.001),                # otimizador Adam\n",
        "                loss='categorical_crossentropy',\n",
        "                metrics=['accuracy'])                                                       # métrica final de desempenho (nao modifique!)\n",
        "\n",
        "  return network"
      ],
      "metadata": {
        "id": "pCiDYoJDAjQl"
      },
      "execution_count": 143,
      "outputs": []
    },
    {
      "cell_type": "code",
      "source": [
        "time = datetime.now().strftime(\"%H:%M:%S\")                                                  # Obtém o tempo no inicio do programa.\n",
        "\n",
        "\n",
        "network = get_cifar10_network()                                                          # Obtem a rede\n",
        "(x_train, y_train),(x_test, y_test) = cifar10.load_data()                                # Carrega o dataset\n",
        "\n",
        "y_train = to_categorical(y_train, num_classes=10)\n",
        "y_test = to_categorical(y_test, num_classes=10)\n",
        "\n",
        "network.fit(x_train, y_train, epochs=10, batch_size=128, validation_split=0.2)              # Treina a rede\n",
        "loss, accuracy = network.evaluate(x_test, y_test)                                           # Avalia a rede\n",
        "\n",
        "print(f\"The program was started on: {time}\")\n",
        "time = datetime.now().strftime(\"%H:%M:%S\")\n",
        "print(f\"The program has ended on: {time}\")"
      ],
      "metadata": {
        "id": "8t1qN0UOFXW8"
      },
      "execution_count": null,
      "outputs": []
    },
    {
      "cell_type": "markdown",
      "source": [
        "# Cifar-100 Dataset"
      ],
      "metadata": {
        "id": "j0nbyERxHWEv"
      }
    },
    {
      "cell_type": "code",
      "source": [
        "def get_cifar100_network():\n",
        "  network = tf.keras.models.Sequential([\n",
        "      tf.keras.layers.Conv2D(64, (3, 3), activation='relu', input_shape=(32, 32, 3)),\n",
        "      tf.keras.layers.Conv2D(64, (2, 2), activation='relu'),\n",
        "      tf.keras.layers.BatchNormalization(),\n",
        "      tf.keras.layers.MaxPool2D((2,2)),\n",
        "      tf.keras.layers.Dropout(0.3),\n",
        "      tf.keras.layers.Conv2D(32, (2, 2), activation='relu'),\n",
        "      tf.keras.layers.BatchNormalization(),\n",
        "      tf.keras.layers.MaxPool2D((2,2)),\n",
        "      tf.keras.layers.Dropout(0.3),\n",
        "      tf.keras.layers.BatchNormalization(),\n",
        "      tf.keras.layers.Flatten(),\n",
        "      tf.keras.layers.Dropout(0.2),\n",
        "      tf.keras.layers.BatchNormalization(),\n",
        "      tf.keras.layers.Dense(512, activation='relu'),\n",
        "      tf.keras.layers.Dense(100, activation='softmax')                                     # 1 camada de saida com 100 neuronios (1 por classe)\n",
        "  ])\n",
        "\n",
        "  network.compile(optimizer=tf.keras.optimizers.Adam(learning_rate = 0.001),                # otimizador Adam\n",
        "                loss='categorical_crossentropy',\n",
        "                metrics=['accuracy'])                                                       # métrica final de desempenho (nao modifique!)\n",
        "\n",
        "  return network"
      ],
      "metadata": {
        "id": "9xvmBqiSHYxS"
      },
      "execution_count": 151,
      "outputs": []
    },
    {
      "cell_type": "code",
      "source": [
        "time = datetime.now().strftime(\"%H:%M:%S\")                                                  # Obtém o tempo no inicio do programa.\n",
        "\n",
        "\n",
        "network = get_cifar100_network()                                                          # Obtem a rede\n",
        "(x_train, y_train),(x_test, y_test) = cifar100.load_data()                                # Carrega o dataset\n",
        "\n",
        "# Normalize images\n",
        "x_train = x_train.astype('float32')/255\n",
        "x_test = x_test.astype('float32')/255\n",
        "\n",
        "y_train = to_categorical(y_train)\n",
        "y_test = to_categorical(y_test)\n",
        "\n",
        "network.fit(x_train, y_train, epochs=10, batch_size=128, validation_split=0.2)              # Treina a rede\n",
        "loss, accuracy = network.evaluate(x_test, y_test)                                           # Avalia a rede\n",
        "\n",
        "print(f\"The program was started on: {time}\")\n",
        "time = datetime.now().strftime(\"%H:%M:%S\")\n",
        "print(f\"The program has ended on: {time}\")"
      ],
      "metadata": {
        "colab": {
          "base_uri": "https://localhost:8080/"
        },
        "id": "TEwb5jrLHci1",
        "outputId": "06b425dc-40b9-4ff9-f6e8-f0c863b6160d"
      },
      "execution_count": 152,
      "outputs": [
        {
          "output_type": "stream",
          "name": "stdout",
          "text": [
            "Epoch 1/10\n",
            "313/313 [==============================] - 10s 21ms/step - loss: 3.8547 - accuracy: 0.1351 - val_loss: 5.3319 - val_accuracy: 0.0444\n",
            "Epoch 2/10\n",
            "313/313 [==============================] - 6s 19ms/step - loss: 3.1521 - accuracy: 0.2392 - val_loss: 3.3023 - val_accuracy: 0.2114\n",
            "Epoch 3/10\n",
            "313/313 [==============================] - 6s 19ms/step - loss: 2.7992 - accuracy: 0.3040 - val_loss: 2.8474 - val_accuracy: 0.3104\n",
            "Epoch 4/10\n",
            "313/313 [==============================] - 6s 18ms/step - loss: 2.5630 - accuracy: 0.3529 - val_loss: 2.5658 - val_accuracy: 0.3539\n",
            "Epoch 5/10\n",
            "313/313 [==============================] - 6s 19ms/step - loss: 2.3583 - accuracy: 0.3920 - val_loss: 2.6350 - val_accuracy: 0.3439\n",
            "Epoch 6/10\n",
            "313/313 [==============================] - 6s 18ms/step - loss: 2.2043 - accuracy: 0.4252 - val_loss: 2.5633 - val_accuracy: 0.3658\n",
            "Epoch 7/10\n",
            "313/313 [==============================] - 6s 19ms/step - loss: 2.0747 - accuracy: 0.4536 - val_loss: 2.7124 - val_accuracy: 0.3519\n",
            "Epoch 8/10\n",
            "313/313 [==============================] - 6s 19ms/step - loss: 1.9607 - accuracy: 0.4751 - val_loss: 2.5359 - val_accuracy: 0.3778\n",
            "Epoch 9/10\n",
            "313/313 [==============================] - 6s 18ms/step - loss: 1.8506 - accuracy: 0.4992 - val_loss: 2.3366 - val_accuracy: 0.4206\n",
            "Epoch 10/10\n",
            "313/313 [==============================] - 6s 19ms/step - loss: 1.7596 - accuracy: 0.5192 - val_loss: 2.4322 - val_accuracy: 0.4076\n",
            "313/313 [==============================] - 1s 4ms/step - loss: 2.4537 - accuracy: 0.3989\n",
            "The program was started on: 18:33:39\n",
            "The program has ended on: 18:35:06\n"
          ]
        }
      ]
    },
    {
      "cell_type": "markdown",
      "source": [
        "# Results"
      ],
      "metadata": {
        "id": "oqQzeg7ydM8p"
      }
    },
    {
      "cell_type": "code",
      "source": [
        "results = {\n",
        "    # Tempo em segundos.\n",
        "    \"mnist\": {\"time\": 42, \"acc\": 0.9920},\n",
        "    \"fashion_mnist\": {\"time\": 85, \"acc\": 0.9193},\n",
        "    \"cifar10\": {\"time\": 88, \"acc\": 0.7573},\n",
        "    \"cifar100\": {\"time\": 93, \"acc\": 0.3989},\n",
        "}"
      ],
      "metadata": {
        "id": "yU6F0MXB-Xtq"
      },
      "execution_count": null,
      "outputs": []
    }
  ]
}